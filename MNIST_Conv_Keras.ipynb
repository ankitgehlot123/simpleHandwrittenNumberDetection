{
  "nbformat": 4,
  "nbformat_minor": 0,
  "metadata": {
    "colab": {
      "name": "MNIST_Conv_Keras.ipynb",
      "version": "0.3.2",
      "provenance": [],
      "include_colab_link": true
    },
    "kernelspec": {
      "name": "python3",
      "display_name": "Python 3"
    },
    "accelerator": "GPU"
  },
  "cells": [
    {
      "cell_type": "markdown",
      "metadata": {
        "id": "view-in-github",
        "colab_type": "text"
      },
      "source": [
        "<a href=\"https://colab.research.google.com/github/ankitgehlot123/simpleHandwrittenNumberDetection/blob/master/MNIST_Conv_Keras.ipynb\" target=\"_parent\"><img src=\"https://colab.research.google.com/assets/colab-badge.svg\" alt=\"Open In Colab\"/></a>"
      ]
    },
    {
      "metadata": {
        "id": "ROAmbdCkDOBp",
        "colab_type": "code",
        "colab": {
          "base_uri": "https://localhost:8080/",
          "height": 34
        },
        "outputId": "be53606e-1491-4d37-d029-0d34f0af7268"
      },
      "cell_type": "code",
      "source": [
        "import numpy\n",
        "from keras.datasets import mnist\n",
        "from keras.models import Sequential\n",
        "from keras.layers import Dense\n",
        "from keras.layers import Dropout\n",
        "from keras.layers import Flatten\n",
        "from keras.layers.convolutional import Conv2D\n",
        "from keras.layers.convolutional import MaxPooling2D\n",
        "from keras.utils import np_utils\n",
        "from keras import backend as K\n",
        "K.set_image_dim_ordering('th')"
      ],
      "execution_count": 2,
      "outputs": [
        {
          "output_type": "stream",
          "text": [
            "Using TensorFlow backend.\n"
          ],
          "name": "stderr"
        }
      ]
    },
    {
      "metadata": {
        "id": "1yruc9yKDbAw",
        "colab_type": "code",
        "colab": {
          "base_uri": "https://localhost:8080/",
          "height": 51
        },
        "outputId": "fafe1540-d879-4004-ed36-f939350f89c8"
      },
      "cell_type": "code",
      "source": [
        "\n",
        "# fix random seed for reproducibility\n",
        "seed = 7\n",
        "numpy.random.seed(seed)\n",
        "# load data\n",
        "(X_train, y_train), (X_test, y_test) = mnist.load_data()\n",
        "# reshape to be [samples][pixels][width][height]\n",
        "X_train = X_train.reshape(X_train.shape[0], 1, 28, 28).astype('float32')\n",
        "X_test = X_test.reshape(X_test.shape[0], 1, 28, 28).astype('float32')\n",
        "# normalize inputs from 0-255 to 0-1\n",
        "X_train = X_train / 255\n",
        "X_test = X_test / 255\n",
        "# one hot encode outputs\n",
        "y_train = np_utils.to_categorical(y_train)\n",
        "y_test = np_utils.to_categorical(y_test)\n",
        "num_classes = y_test.shape[1]"
      ],
      "execution_count": 3,
      "outputs": [
        {
          "output_type": "stream",
          "text": [
            "Downloading data from https://s3.amazonaws.com/img-datasets/mnist.npz\n",
            "11493376/11490434 [==============================] - 2s 0us/step\n"
          ],
          "name": "stdout"
        }
      ]
    },
    {
      "metadata": {
        "id": "quBU3ReoFDFS",
        "colab_type": "code",
        "colab": {}
      },
      "cell_type": "code",
      "source": [
        "def baseline_model():\n",
        "\t# create model\n",
        "\tmodel = Sequential()\n",
        "\tmodel.add(Conv2D(32, (5, 5), input_shape=(1, 28, 28), activation='relu'))\n",
        "\tmodel.add(MaxPooling2D(pool_size=(2, 2)))\n",
        "\tmodel.add(Dropout(0.2))\n",
        "\tmodel.add(Flatten())\n",
        "\tmodel.add(Dense(128, activation='relu'))\n",
        "\tmodel.add(Dense(num_classes, activation='softmax'))\n",
        "\t# Compile model\n",
        "\tmodel.compile(loss='categorical_crossentropy', optimizer='adam', metrics=['accuracy'])\n",
        "\treturn model"
      ],
      "execution_count": 0,
      "outputs": []
    },
    {
      "metadata": {
        "id": "w7buDW7IFKGe",
        "colab_type": "code",
        "colab": {
          "base_uri": "https://localhost:8080/",
          "height": 731
        },
        "outputId": "54dfaad9-a5f7-4d25-be33-bcf071881d79"
      },
      "cell_type": "code",
      "source": [
        "# build the model\n",
        "model = baseline_model()\n",
        "# Fit the model\n",
        "model.fit(X_train, y_train, validation_data=(X_test, y_test), epochs=20, batch_size=200, verbose=2)\n",
        "# Final evaluation of the model\n",
        "scores = model.evaluate(X_test, y_test, verbose=0)\n",
        "print(\"CNN Error: %.2f%%\" % (100-scores[1]*100))"
      ],
      "execution_count": 10,
      "outputs": [
        {
          "output_type": "stream",
          "text": [
            "Train on 60000 samples, validate on 10000 samples\n",
            "Epoch 1/20\n",
            " - 3s - loss: 0.2396 - acc: 0.9315 - val_loss: 0.0746 - val_acc: 0.9783\n",
            "Epoch 2/20\n",
            " - 3s - loss: 0.0694 - acc: 0.9794 - val_loss: 0.0544 - val_acc: 0.9826\n",
            "Epoch 3/20\n",
            " - 3s - loss: 0.0500 - acc: 0.9847 - val_loss: 0.0428 - val_acc: 0.9855\n",
            "Epoch 4/20\n",
            " - 3s - loss: 0.0401 - acc: 0.9877 - val_loss: 0.0375 - val_acc: 0.9878\n",
            "Epoch 5/20\n",
            " - 3s - loss: 0.0327 - acc: 0.9896 - val_loss: 0.0341 - val_acc: 0.9887\n",
            "Epoch 6/20\n",
            " - 3s - loss: 0.0265 - acc: 0.9914 - val_loss: 0.0307 - val_acc: 0.9910\n",
            "Epoch 7/20\n",
            " - 3s - loss: 0.0223 - acc: 0.9927 - val_loss: 0.0323 - val_acc: 0.9898\n",
            "Epoch 8/20\n",
            " - 3s - loss: 0.0184 - acc: 0.9942 - val_loss: 0.0382 - val_acc: 0.9872\n",
            "Epoch 9/20\n",
            " - 3s - loss: 0.0164 - acc: 0.9946 - val_loss: 0.0332 - val_acc: 0.9897\n",
            "Epoch 10/20\n",
            " - 3s - loss: 0.0139 - acc: 0.9955 - val_loss: 0.0307 - val_acc: 0.9904\n",
            "Epoch 11/20\n",
            " - 3s - loss: 0.0124 - acc: 0.9961 - val_loss: 0.0325 - val_acc: 0.9898\n",
            "Epoch 12/20\n",
            " - 3s - loss: 0.0104 - acc: 0.9967 - val_loss: 0.0387 - val_acc: 0.9874\n",
            "Epoch 13/20\n",
            " - 3s - loss: 0.0099 - acc: 0.9969 - val_loss: 0.0345 - val_acc: 0.9895\n",
            "Epoch 14/20\n",
            " - 3s - loss: 0.0074 - acc: 0.9979 - val_loss: 0.0403 - val_acc: 0.9881\n",
            "Epoch 15/20\n",
            " - 3s - loss: 0.0077 - acc: 0.9976 - val_loss: 0.0334 - val_acc: 0.9906\n",
            "Epoch 16/20\n",
            " - 3s - loss: 0.0071 - acc: 0.9978 - val_loss: 0.0367 - val_acc: 0.9898\n",
            "Epoch 17/20\n",
            " - 3s - loss: 0.0057 - acc: 0.9982 - val_loss: 0.0364 - val_acc: 0.9897\n",
            "Epoch 18/20\n",
            " - 3s - loss: 0.0067 - acc: 0.9979 - val_loss: 0.0407 - val_acc: 0.9888\n",
            "Epoch 19/20\n",
            " - 3s - loss: 0.0050 - acc: 0.9985 - val_loss: 0.0439 - val_acc: 0.9892\n",
            "Epoch 20/20\n",
            " - 3s - loss: 0.0056 - acc: 0.9981 - val_loss: 0.0386 - val_acc: 0.9904\n",
            "CNN Error: 0.96%\n"
          ],
          "name": "stdout"
        }
      ]
    }
  ]
}