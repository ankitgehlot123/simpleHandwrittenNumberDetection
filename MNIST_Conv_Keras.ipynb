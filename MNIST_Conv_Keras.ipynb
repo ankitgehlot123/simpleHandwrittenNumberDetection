{
  "nbformat": 4,
  "nbformat_minor": 0,
  "metadata": {
    "colab": {
      "name": "MNIST_Conv_Keras.ipynb",
      "version": "0.3.2",
      "provenance": [],
      "include_colab_link": true
    },
    "kernelspec": {
      "name": "python3",
      "display_name": "Python 3"
    },
    "accelerator": "GPU"
  },
  "cells": [
    {
      "cell_type": "markdown",
      "metadata": {
        "id": "view-in-github",
        "colab_type": "text"
      },
      "source": [
        "<a href=\"https://colab.research.google.com/github/ankitgehlot123/simpleHandwrittenNumberDetection/blob/master/MNIST_Conv_Keras.ipynb\" target=\"_parent\"><img src=\"https://colab.research.google.com/assets/colab-badge.svg\" alt=\"Open In Colab\"/></a>"
      ]
    },
    {
      "metadata": {
        "id": "ROAmbdCkDOBp",
        "colab_type": "code",
        "colab": {
          "base_uri": "https://localhost:8080/",
          "height": 34
        },
        "outputId": "be53606e-1491-4d37-d029-0d34f0af7268"
      },
      "cell_type": "code",
      "source": [
        "import numpy\n",
        "from keras.datasets import mnist\n",
        "from keras.models import Sequential\n",
        "from keras.layers import Dense\n",
        "from keras.layers import Dropout\n",
        "from keras.layers import Flatten\n",
        "from keras.layers.convolutional import Conv2D\n",
        "from keras.layers.convolutional import MaxPooling2D\n",
        "from keras.utils import np_utils\n",
        "from keras import backend as K\n",
        "K.set_image_dim_ordering('th')"
      ],
      "execution_count": 2,
      "outputs": [
        {
          "output_type": "stream",
          "text": [
            "Using TensorFlow backend.\n"
          ],
          "name": "stderr"
        }
      ]
    },
    {
      "metadata": {
        "id": "1yruc9yKDbAw",
        "colab_type": "code",
        "colab": {
          "base_uri": "https://localhost:8080/",
          "height": 51
        },
        "outputId": "fafe1540-d879-4004-ed36-f939350f89c8"
      },
      "cell_type": "code",
      "source": [
        "\n",
        "# fix random seed for reproducibility\n",
        "seed = 7\n",
        "numpy.random.seed(seed)\n",
        "# load data\n",
        "(X_train, y_train), (X_test, y_test) = mnist.load_data()\n",
        "# reshape to be [samples][pixels][width][height]\n",
        "X_train = X_train.reshape(X_train.shape[0], 1, 28, 28).astype('float32')\n",
        "X_test = X_test.reshape(X_test.shape[0], 1, 28, 28).astype('float32')\n",
        "# normalize inputs from 0-255 to 0-1\n",
        "X_train = X_train / 255\n",
        "X_test = X_test / 255\n",
        "# one hot encode outputs\n",
        "y_train = np_utils.to_categorical(y_train)\n",
        "y_test = np_utils.to_categorical(y_test)\n",
        "num_classes = y_test.shape[1]"
      ],
      "execution_count": 3,
      "outputs": [
        {
          "output_type": "stream",
          "text": [
            "Downloading data from https://s3.amazonaws.com/img-datasets/mnist.npz\n",
            "11493376/11490434 [==============================] - 2s 0us/step\n"
          ],
          "name": "stdout"
        }
      ]
    },
    {
      "metadata": {
        "id": "quBU3ReoFDFS",
        "colab_type": "code",
        "colab": {}
      },
      "cell_type": "code",
      "source": [
        "def baseline_model():\n",
        "\t# create model\n",
        "\tmodel = Sequential()\n",
        "\tmodel.add(Conv2D(32, (5, 5), input_shape=(1, 28, 28), activation='relu'))\n",
        "\tmodel.add(MaxPooling2D(pool_size=(2, 2)))\n",
        "\tmodel.add(Dropout(0.2))\n",
        "\tmodel.add(Flatten())\n",
        "\tmodel.add(Dense(128, activation='relu'))\n",
        "\tmodel.add(Dense(num_classes, activation='softmax'))\n",
        "\t# Compile model\n",
        "\tmodel.compile(loss='categorical_crossentropy', optimizer='adam', metrics=['accuracy'])\n",
        "\treturn model"
      ],
      "execution_count": 0,
      "outputs": []
    },
    {
      "metadata": {
        "id": "w7buDW7IFKGe",
        "colab_type": "code",
        "colab": {
          "base_uri": "https://localhost:8080/",
          "height": 561
        },
        "outputId": "4aff26c7-a3c7-4858-d04c-62e33c61d1b0"
      },
      "cell_type": "code",
      "source": [
        "# build the model\n",
        "model = baseline_model()\n",
        "# Fit the model\n",
        "model.fit(X_train, y_train, validation_data=(X_test, y_test), epochs=15, batch_size=200, verbose=2)\n",
        "# Final evaluation of the model\n",
        "scores = model.evaluate(X_test, y_test, verbose=0)\n",
        "print(\"CNN Error: %.2f%%\" % (100-scores[1]*100))"
      ],
      "execution_count": 9,
      "outputs": [
        {
          "output_type": "stream",
          "text": [
            "Train on 60000 samples, validate on 10000 samples\n",
            "Epoch 1/15\n",
            " - 5s - loss: 0.2493 - acc: 0.9302 - val_loss: 0.0721 - val_acc: 0.9783\n",
            "Epoch 2/15\n",
            " - 5s - loss: 0.0728 - acc: 0.9782 - val_loss: 0.0494 - val_acc: 0.9842\n",
            "Epoch 3/15\n",
            " - 5s - loss: 0.0513 - acc: 0.9843 - val_loss: 0.0438 - val_acc: 0.9865\n",
            "Epoch 4/15\n",
            " - 5s - loss: 0.0395 - acc: 0.9881 - val_loss: 0.0387 - val_acc: 0.9855\n",
            "Epoch 5/15\n",
            " - 5s - loss: 0.0325 - acc: 0.9899 - val_loss: 0.0338 - val_acc: 0.9887\n",
            "Epoch 6/15\n",
            " - 5s - loss: 0.0275 - acc: 0.9916 - val_loss: 0.0322 - val_acc: 0.9886\n",
            "Epoch 7/15\n",
            " - 5s - loss: 0.0219 - acc: 0.9932 - val_loss: 0.0349 - val_acc: 0.9886\n",
            "Epoch 8/15\n",
            " - 5s - loss: 0.0202 - acc: 0.9935 - val_loss: 0.0347 - val_acc: 0.9886\n",
            "Epoch 9/15\n",
            " - 5s - loss: 0.0164 - acc: 0.9947 - val_loss: 0.0336 - val_acc: 0.9895\n",
            "Epoch 10/15\n",
            " - 5s - loss: 0.0130 - acc: 0.9959 - val_loss: 0.0313 - val_acc: 0.9898\n",
            "Epoch 11/15\n",
            " - 5s - loss: 0.0129 - acc: 0.9958 - val_loss: 0.0310 - val_acc: 0.9908\n",
            "Epoch 12/15\n",
            " - 5s - loss: 0.0103 - acc: 0.9967 - val_loss: 0.0326 - val_acc: 0.9897\n",
            "Epoch 13/15\n",
            " - 5s - loss: 0.0088 - acc: 0.9973 - val_loss: 0.0336 - val_acc: 0.9902\n",
            "Epoch 14/15\n",
            " - 5s - loss: 0.0081 - acc: 0.9972 - val_loss: 0.0335 - val_acc: 0.9904\n",
            "Epoch 15/15\n",
            " - 5s - loss: 0.0067 - acc: 0.9979 - val_loss: 0.0374 - val_acc: 0.9897\n",
            "CNN Error: 1.03%\n"
          ],
          "name": "stdout"
        }
      ]
    }
  ]
}